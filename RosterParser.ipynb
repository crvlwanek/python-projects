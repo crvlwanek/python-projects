{
 "cells": [
  {
   "cell_type": "code",
   "execution_count": 71,
   "metadata": {},
   "outputs": [
    {
     "name": "stdout",
     "output_type": "stream",
     "text": [
      "32\n",
      "(32, 11)\n"
     ]
    }
   ],
   "source": [
    "\"\"\"\n",
    "A script used for extracting student roster data from a text file and reformatting for excel\n",
    "\n",
    "Sample data is provided to show how the real data was formatted\n",
    "\"\"\"\n",
    "\n",
    "\n",
    "import pandas as pd\n",
    "import numpy as np\n",
    "import re\n",
    "\n",
    "headers = [\n",
    "    'Last', 'First', 'Middle', 'ID', 'Gender', 'Grade', 'Number', 'Street', 'City', 'State', 'ZIP'\n",
    "]\n",
    "\n",
    "with open('sampleData.txt') as file:\n",
    "    text = file.read()\n",
    "    \n",
    "pattern = '''\n",
    "            (?P<Last>[^,\\n]+),\\s\n",
    "            (?P<First>[\\w \\(\\)]+)\\s\n",
    "            (?P<Middle>[A-Z]*)\\s*\n",
    "            (?P<ID>[0-9]{5})\\s\n",
    "            (?P<Gender>[MF])\\s\n",
    "            (?P<Grade>\\d{2})\\s\n",
    "            (?P<Number>.{13})\\s\n",
    "            (?P<Street>[^,]+)\\s*,\\s\n",
    "            (?P<City>[^,]+),\\s\n",
    "            (?P<State>[A-Z]{2})\\s\n",
    "            (?P<ZIP>\\d{5})\n",
    "'''\n",
    "\n",
    "match = re.findall(pattern, text, re.VERBOSE)\n",
    "df = pd.DataFrame(match, columns=headers)\n",
    "df = df[['ID', 'First', 'Middle', 'Last', 'Gender', 'Grade', 'Number', 'Street', 'City', 'State', 'ZIP']]\n",
    "df['Middle'] = df['First'].apply(lambda x: x.split()[-1])\n",
    "df['First'] = df['First'].apply(lambda x: \" \".join(x.split()[:-1]).strip())\n",
    "df.replace(r'^\\s*$', np.nan, regex=True, inplace=True)\n",
    "df['First'].fillna(df['Middle'], inplace=True)\n",
    "df.to_clipboard(index=False)\n",
    "print(len(text.split('\\n')))\n",
    "print(df.shape)"
   ]
  },
  {
   "cell_type": "code",
   "execution_count": null,
   "metadata": {},
   "outputs": [],
   "source": []
  }
 ],
 "metadata": {
  "kernelspec": {
   "display_name": "Python 3",
   "language": "python",
   "name": "python3"
  },
  "language_info": {
   "codemirror_mode": {
    "name": "ipython",
    "version": 3
   },
   "file_extension": ".py",
   "mimetype": "text/x-python",
   "name": "python",
   "nbconvert_exporter": "python",
   "pygments_lexer": "ipython3",
   "version": "3.8.5"
  }
 },
 "nbformat": 4,
 "nbformat_minor": 4
}
